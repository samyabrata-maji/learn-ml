{
  "cells": [
    {
      "cell_type": "code",
      "execution_count": 1,
      "metadata": {
        "id": "umoQ1bINU24R"
      },
      "outputs": [],
      "source": [
        "import pandas as pd"
      ]
    },
    {
      "cell_type": "code",
      "execution_count": 2,
      "metadata": {
        "colab": {
          "base_uri": "https://localhost:8080/",
          "height": 676
        },
        "id": "dJaJQqUpXrGq",
        "outputId": "7dd46c19-060e-415c-9167-fd10471b9814"
      },
      "outputs": [
        {
          "data": {
            "text/html": [
              "<div>\n",
              "<style scoped>\n",
              "    .dataframe tbody tr th:only-of-type {\n",
              "        vertical-align: middle;\n",
              "    }\n",
              "\n",
              "    .dataframe tbody tr th {\n",
              "        vertical-align: top;\n",
              "    }\n",
              "\n",
              "    .dataframe thead th {\n",
              "        text-align: right;\n",
              "    }\n",
              "</style>\n",
              "<table border=\"1\" class=\"dataframe\">\n",
              "  <thead>\n",
              "    <tr style=\"text-align: right;\">\n",
              "      <th></th>\n",
              "      <th>col1</th>\n",
              "      <th>col2</th>\n",
              "      <th>col3</th>\n",
              "      <th>col4</th>\n",
              "      <th>col5</th>\n",
              "      <th>col6</th>\n",
              "      <th>col7</th>\n",
              "      <th>col8</th>\n",
              "    </tr>\n",
              "  </thead>\n",
              "  <tbody>\n",
              "    <tr>\n",
              "      <th>0</th>\n",
              "      <td>ArrowDtype</td>\n",
              "      <td>Int32Dtype</td>\n",
              "      <td>Timestamp</td>\n",
              "      <td>__spec__</td>\n",
              "      <td>errors</td>\n",
              "      <td>option_context</td>\n",
              "      <td>read_sas</td>\n",
              "      <td>unique</td>\n",
              "    </tr>\n",
              "    <tr>\n",
              "      <th>1</th>\n",
              "      <td>BooleanDtype</td>\n",
              "      <td>Int64Dtype</td>\n",
              "      <td>UInt16Dtype</td>\n",
              "      <td>__version__</td>\n",
              "      <td>eval</td>\n",
              "      <td>options</td>\n",
              "      <td>read_spss</td>\n",
              "      <td>util</td>\n",
              "    </tr>\n",
              "  </tbody>\n",
              "</table>\n",
              "</div>"
            ],
            "text/plain": [
              "           col1        col2         col3         col4    col5            col6  \\\n",
              "0    ArrowDtype  Int32Dtype    Timestamp     __spec__  errors  option_context   \n",
              "1  BooleanDtype  Int64Dtype  UInt16Dtype  __version__    eval         options   \n",
              "\n",
              "        col7    col8  \n",
              "0   read_sas  unique  \n",
              "1  read_spss    util  "
            ]
          },
          "metadata": {},
          "output_type": "display_data"
        }
      ],
      "source": [
        "# Displays all methods available under Pandas module\n",
        "pd_modules = dir(pd)\n",
        "for i in range(20-(len(pd_modules)-140)):\n",
        "    pd_modules.append('-')\n",
        "\n",
        "df_pd_modules = pd.DataFrame({'col1': pd_modules[:20], 'col2': pd_modules[20:40], 'col3': pd_modules[40:60], 'col4': pd_modules[60:80],\n",
        "                             'col5': pd_modules[80:100], 'col6': pd_modules[100:120], 'col7': pd_modules[120:140], 'col8': pd_modules[140:160], })\n",
        "\n",
        "# print(df_pd_modules.shape)\n",
        "display(df_pd_modules.head(2))  # displays first five rows\n",
        "# display(df_pd_modules) # displays the full dataset\n"
      ]
    },
    {
      "cell_type": "markdown",
      "metadata": {},
      "source": [
        "Data Frame: A DataFrame is a table. It contains an array of individual entries, each of which has a certain value. \n",
        "Each entry corresponds to a row (or record) and a column."
      ]
    },
    {
      "cell_type": "code",
      "execution_count": 9,
      "metadata": {
        "colab": {
          "base_uri": "https://localhost:8080/",
          "height": 112
        },
        "id": "CsSyD8WSVGV4",
        "outputId": "95fa151c-e7b8-45b5-8e90-a44479deaf2b"
      },
      "outputs": [
        {
          "data": {
            "text/html": [
              "<div>\n",
              "<style scoped>\n",
              "    .dataframe tbody tr th:only-of-type {\n",
              "        vertical-align: middle;\n",
              "    }\n",
              "\n",
              "    .dataframe tbody tr th {\n",
              "        vertical-align: top;\n",
              "    }\n",
              "\n",
              "    .dataframe thead th {\n",
              "        text-align: right;\n",
              "    }\n",
              "</style>\n",
              "<table border=\"1\" class=\"dataframe\">\n",
              "  <thead>\n",
              "    <tr style=\"text-align: right;\">\n",
              "      <th></th>\n",
              "      <th>0</th>\n",
              "      <th>1</th>\n",
              "      <th>2</th>\n",
              "    </tr>\n",
              "  </thead>\n",
              "  <tbody>\n",
              "    <tr>\n",
              "      <th>hello</th>\n",
              "      <td>one</td>\n",
              "      <td>2</td>\n",
              "      <td>5</td>\n",
              "    </tr>\n",
              "    <tr>\n",
              "      <th>world</th>\n",
              "      <td>two</td>\n",
              "      <td>3</td>\n",
              "      <td>4</td>\n",
              "    </tr>\n",
              "  </tbody>\n",
              "</table>\n",
              "</div>"
            ],
            "text/plain": [
              "         0  1  2\n",
              "hello  one  2  5\n",
              "world  two  3  4"
            ]
          },
          "execution_count": 9,
          "metadata": {},
          "output_type": "execute_result"
        }
      ],
      "source": [
        "# Creating DataFrames:\n",
        "# col: 'yes' 'no'\n",
        "# row: 0, 1 (default)\n",
        "df1 = pd.DataFrame({\n",
        "    'yes' : [1,0],\n",
        "    'no' : [2,0]\n",
        "}) \n",
        "\n",
        "# to assign row lables use index\n",
        "df2 = pd.DataFrame({\n",
        "    'one' : [1,0],\n",
        "    'two' : [2,0]\n",
        "}, index=['val', 'no-val']) \n",
        "\n",
        "# display(df1)\n",
        "# display(df2)\n",
        "\n",
        "# Another way of creating Data Frames\n",
        "# col: 1, 2, 3 (default)\n",
        "# row: 'hello', 'world' (default)\n",
        "pd.DataFrame([[\"one\",2,5], [\"two\",3,4]], index=['hello', 'world'])"
      ]
    },
    {
      "cell_type": "code",
      "execution_count": 8,
      "metadata": {},
      "outputs": [
        {
          "data": {
            "text/plain": [
              "row1      one\n",
              "row2      two\n",
              "row3    three\n",
              "Name: Pandas Series, dtype: object"
            ]
          },
          "execution_count": 8,
          "metadata": {},
          "output_type": "execute_result"
        }
      ],
      "source": [
        "# Creating Series:\n",
        "''' Series is a List of values. Its like a single col of a DataFrame '''\n",
        "pd.Series([1,2,3,4])\n",
        "\n",
        "# 'index' sets row names\n",
        "pd.Series([\"one\", \"two\", \"three\"], index=['row1', 'row2', 'row3'], name=\"Pandas Series\")"
      ]
    },
    {
      "cell_type": "code",
      "execution_count": 3,
      "metadata": {},
      "outputs": [
        {
          "data": {
            "text/plain": [
              "0              T\n",
              "1      _AXIS_LEN\n",
              "2    _AXIS_NAMES\n",
              "dtype: object"
            ]
          },
          "execution_count": 3,
          "metadata": {},
          "output_type": "execute_result"
        }
      ],
      "source": [
        "pd.Series(dir(pd.Series)).head(3)"
      ]
    }
  ],
  "metadata": {
    "colab": {
      "provenance": []
    },
    "kernelspec": {
      "display_name": "Python 3.10.8 64-bit (microsoft store)",
      "language": "python",
      "name": "python3"
    },
    "language_info": {
      "codemirror_mode": {
        "name": "ipython",
        "version": 3
      },
      "file_extension": ".py",
      "mimetype": "text/x-python",
      "name": "python",
      "nbconvert_exporter": "python",
      "pygments_lexer": "ipython3",
      "version": "3.10.8"
    },
    "vscode": {
      "interpreter": {
        "hash": "ba37d69516b96b2df66115ef342e83722e1a1518f5d2e0ee41eb08141fa2fe2a"
      }
    }
  },
  "nbformat": 4,
  "nbformat_minor": 0
}
